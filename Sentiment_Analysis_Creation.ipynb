{
  "nbformat": 4,
  "nbformat_minor": 0,
  "metadata": {
    "colab": {
      "provenance": []
    },
    "kernelspec": {
      "name": "python3",
      "display_name": "Python 3"
    },
    "language_info": {
      "name": "python"
    }
  },
  "cells": [
    {
      "cell_type": "code",
      "source": [
        "from textblob import TextBlob"
      ],
      "metadata": {
        "id": "k7yPNvILDu4e"
      },
      "execution_count": null,
      "outputs": []
    },
    {
      "cell_type": "code",
      "source": [
        "from google.colab import drive\n",
        "drive.mount('/content/drive')"
      ],
      "metadata": {
        "colab": {
          "base_uri": "https://localhost:8080/"
        },
        "id": "eUGzQ9ViBIGP",
        "outputId": "6c338ecf-253c-4ec3-cf91-6041c9ad06df"
      },
      "execution_count": null,
      "outputs": [
        {
          "output_type": "stream",
          "name": "stdout",
          "text": [
            "Mounted at /content/drive\n"
          ]
        }
      ]
    },
    {
      "cell_type": "markdown",
      "source": [
        "Dataset from CIC\n",
        "https://www.unb.ca/cic/datasets/truthseeker-2023.html"
      ],
      "metadata": {
        "id": "5CKFOUnyhMkg"
      }
    },
    {
      "cell_type": "code",
      "source": [
        "featurePath = 'Features_For_Traditional_ML_Techniques.csv'"
      ],
      "metadata": {
        "id": "EusDr4pkBXzu"
      },
      "execution_count": null,
      "outputs": []
    },
    {
      "cell_type": "code",
      "source": [
        "import pandas as pd\n",
        "df = pd.read_csv(featurePath)"
      ],
      "metadata": {
        "id": "GZ-IlanUBDCm"
      },
      "execution_count": null,
      "outputs": []
    },
    {
      "cell_type": "code",
      "source": [
        "df['cleanedTweets'] = df['tweet'].str.replace('#[^\\\\s]*\\\\b', ' ').str.replace('@\\\\w+\\\\b', ' ')"
      ],
      "metadata": {
        "colab": {
          "base_uri": "https://localhost:8080/"
        },
        "id": "tT5VK4xoCTq3",
        "outputId": "dd5be064-a6c7-4b52-e3d3-71eec017d303"
      },
      "execution_count": null,
      "outputs": [
        {
          "output_type": "stream",
          "name": "stderr",
          "text": [
            "<ipython-input-10-b75f68b5f508>:3: FutureWarning: The default value of regex will change from True to False in a future version.\n",
            "  df['cleanedTweets'] = df['tweet'].str.replace('#[^\\\\s]*\\\\b', ' ').str.replace('@\\\\w+\\\\b', ' ')\n"
          ]
        }
      ]
    },
    {
      "cell_type": "code",
      "source": [
        "# prompt: Using dataframe df: Run sentiment Analysis on each value of cleaned tweet, saving the new values into a new column named sentiment, and then saving the dataframe as a csv file named sentiment\n",
        "\n",
        "df['sentiment'] = df['cleanedTweets'].apply(lambda x: TextBlob(x).sentiment.polarity)\n",
        "df.to_csv('sentiment.csv')\n"
      ],
      "metadata": {
        "id": "zrANkIB5C-QY"
      },
      "execution_count": null,
      "outputs": []
    },
    {
      "cell_type": "code",
      "source": [
        "from google.colab import files\n",
        "\n",
        "files.download('sentiment.csv')"
      ],
      "metadata": {
        "colab": {
          "base_uri": "https://localhost:8080/",
          "height": 34
        },
        "id": "UVEIiScAF5f8",
        "outputId": "be66259d-0fe0-4f18-ce42-2eab4b71b82e"
      },
      "execution_count": null,
      "outputs": [
        {
          "output_type": "display_data",
          "data": {
            "text/plain": [
              "<IPython.core.display.Javascript object>"
            ],
            "application/javascript": [
              "\n",
              "    async function download(id, filename, size) {\n",
              "      if (!google.colab.kernel.accessAllowed) {\n",
              "        return;\n",
              "      }\n",
              "      const div = document.createElement('div');\n",
              "      const label = document.createElement('label');\n",
              "      label.textContent = `Downloading \"${filename}\": `;\n",
              "      div.appendChild(label);\n",
              "      const progress = document.createElement('progress');\n",
              "      progress.max = size;\n",
              "      div.appendChild(progress);\n",
              "      document.body.appendChild(div);\n",
              "\n",
              "      const buffers = [];\n",
              "      let downloaded = 0;\n",
              "\n",
              "      const channel = await google.colab.kernel.comms.open(id);\n",
              "      // Send a message to notify the kernel that we're ready.\n",
              "      channel.send({})\n",
              "\n",
              "      for await (const message of channel.messages) {\n",
              "        // Send a message to notify the kernel that we're ready.\n",
              "        channel.send({})\n",
              "        if (message.buffers) {\n",
              "          for (const buffer of message.buffers) {\n",
              "            buffers.push(buffer);\n",
              "            downloaded += buffer.byteLength;\n",
              "            progress.value = downloaded;\n",
              "          }\n",
              "        }\n",
              "      }\n",
              "      const blob = new Blob(buffers, {type: 'application/binary'});\n",
              "      const a = document.createElement('a');\n",
              "      a.href = window.URL.createObjectURL(blob);\n",
              "      a.download = filename;\n",
              "      div.appendChild(a);\n",
              "      a.click();\n",
              "      div.remove();\n",
              "    }\n",
              "  "
            ]
          },
          "metadata": {}
        },
        {
          "output_type": "display_data",
          "data": {
            "text/plain": [
              "<IPython.core.display.Javascript object>"
            ],
            "application/javascript": [
              "download(\"download_e3d3248e-638c-44ab-b28a-79be5a1a65ca\", \"sentiment.csv\", 111427928)"
            ]
          },
          "metadata": {}
        }
      ]
    }
  ]
}